{
 "cells": [
  {
   "cell_type": "code",
   "execution_count": 41,
   "id": "9a800ead",
   "metadata": {},
   "outputs": [],
   "source": [
    "import pyspark\n",
    "from pyspark.sql import SparkSession, functions as F\n",
    "\n",
    "import pandas as pd\n",
    "import pyarrow.parquet as pq\n"
   ]
  },
  {
   "cell_type": "code",
   "execution_count": 3,
   "id": "98017cdd",
   "metadata": {},
   "outputs": [
    {
     "name": "stderr",
     "output_type": "stream",
     "text": [
      "Setting default log level to \"WARN\".\n",
      "To adjust logging level use sc.setLogLevel(newLevel). For SparkR, use setLogLevel(newLevel).\n"
     ]
    },
    {
     "name": "stdout",
     "output_type": "stream",
     "text": [
      "22/10/11 12:14:00 WARN NativeCodeLoader: Unable to load native-hadoop library for your platform... using builtin-java classes where applicable\n",
      "22/10/11 12:14:02 WARN Utils: Service 'SparkUI' could not bind on port 4040. Attempting port 4041.\n",
      "22/10/11 12:14:02 WARN Utils: Service 'SparkUI' could not bind on port 4041. Attempting port 4042.\n"
     ]
    }
   ],
   "source": [
    "spark = SparkSession.builder \\\n",
    "    .master(\"local[*]\") \\\n",
    "    .appName('test') \\\n",
    "    .getOrCreate()"
   ]
  },
  {
   "cell_type": "code",
   "execution_count": 4,
   "id": "b9c158f1",
   "metadata": {},
   "outputs": [
    {
     "name": "stderr",
     "output_type": "stream",
     "text": [
      "                                                                                \r"
     ]
    }
   ],
   "source": [
    "df_green = spark.read.parquet('data/pq/green/*/*')\n",
    "df_green = df_green \\\n",
    "    .withColumnRenamed('lpep_pickup_datetime', 'pickup_datetime') \\\n",
    "    .withColumnRenamed('lpep_dropoff_datetime', 'dropoff_datetime')\n",
    "\n",
    "df_yellow = spark.read.parquet('data/pq/yellow/*/*')\n",
    "df_yellow = df_yellow \\\n",
    "    .withColumnRenamed('tpep_pickup_datetime', 'pickup_datetime') \\\n",
    "    .withColumnRenamed('tpep_dropoff_datetime', 'dropoff_datetime')"
   ]
  },
  {
   "cell_type": "code",
   "execution_count": 5,
   "id": "02f883ca",
   "metadata": {},
   "outputs": [
    {
     "name": "stdout",
     "output_type": "stream",
     "text": [
      "root\n",
      " |-- VendorID: long (nullable = true)\n",
      " |-- pickup_datetime: timestamp (nullable = true)\n",
      " |-- dropoff_datetime: timestamp (nullable = true)\n",
      " |-- store_and_fwd_flag: string (nullable = true)\n",
      " |-- RatecodeID: double (nullable = true)\n",
      " |-- PULocationID: long (nullable = true)\n",
      " |-- DOLocationID: long (nullable = true)\n",
      " |-- passenger_count: double (nullable = true)\n",
      " |-- trip_distance: double (nullable = true)\n",
      " |-- fare_amount: double (nullable = true)\n",
      " |-- extra: double (nullable = true)\n",
      " |-- mta_tax: double (nullable = true)\n",
      " |-- tip_amount: double (nullable = true)\n",
      " |-- tolls_amount: double (nullable = true)\n",
      " |-- ehail_fee: integer (nullable = true)\n",
      " |-- improvement_surcharge: double (nullable = true)\n",
      " |-- total_amount: double (nullable = true)\n",
      " |-- payment_type: double (nullable = true)\n",
      " |-- trip_type: double (nullable = true)\n",
      " |-- congestion_surcharge: double (nullable = true)\n",
      "\n"
     ]
    }
   ],
   "source": [
    "df_green.printSchema()"
   ]
  },
  {
   "cell_type": "code",
   "execution_count": 6,
   "id": "599b9871",
   "metadata": {},
   "outputs": [
    {
     "name": "stdout",
     "output_type": "stream",
     "text": [
      "root\n",
      " |-- VendorID: long (nullable = true)\n",
      " |-- pickup_datetime: timestamp (nullable = true)\n",
      " |-- dropoff_datetime: timestamp (nullable = true)\n",
      " |-- passenger_count: double (nullable = true)\n",
      " |-- trip_distance: double (nullable = true)\n",
      " |-- RatecodeID: double (nullable = true)\n",
      " |-- store_and_fwd_flag: string (nullable = true)\n",
      " |-- PULocationID: long (nullable = true)\n",
      " |-- DOLocationID: long (nullable = true)\n",
      " |-- payment_type: long (nullable = true)\n",
      " |-- fare_amount: double (nullable = true)\n",
      " |-- extra: double (nullable = true)\n",
      " |-- mta_tax: double (nullable = true)\n",
      " |-- tip_amount: double (nullable = true)\n",
      " |-- tolls_amount: double (nullable = true)\n",
      " |-- improvement_surcharge: double (nullable = true)\n",
      " |-- total_amount: double (nullable = true)\n",
      " |-- congestion_surcharge: double (nullable = true)\n",
      " |-- airport_fee: integer (nullable = true)\n",
      "\n"
     ]
    }
   ],
   "source": [
    "df_yellow.printSchema()"
   ]
  },
  {
   "cell_type": "code",
   "execution_count": 23,
   "id": "0275c8a0",
   "metadata": {},
   "outputs": [
    {
     "data": {
      "text/plain": [
       "{'DOLocationID',\n",
       " 'PULocationID',\n",
       " 'RatecodeID',\n",
       " 'VendorID',\n",
       " 'congestion_surcharge',\n",
       " 'dropoff_datetime',\n",
       " 'extra',\n",
       " 'fare_amount',\n",
       " 'improvement_surcharge',\n",
       " 'mta_tax',\n",
       " 'passenger_count',\n",
       " 'payment_type',\n",
       " 'pickup_datetime',\n",
       " 'store_and_fwd_flag',\n",
       " 'tip_amount',\n",
       " 'tolls_amount',\n",
       " 'total_amount',\n",
       " 'trip_distance'}"
      ]
     },
     "execution_count": 23,
     "metadata": {},
     "output_type": "execute_result"
    }
   ],
   "source": [
    "set(df_green.columns) & set(df_yellow.columns)"
   ]
  },
  {
   "cell_type": "code",
   "execution_count": 14,
   "id": "ecf4819e",
   "metadata": {},
   "outputs": [
    {
     "data": {
      "text/plain": [
       "20"
      ]
     },
     "execution_count": 14,
     "metadata": {},
     "output_type": "execute_result"
    }
   ],
   "source": [
    "len(df_green.columns)"
   ]
  },
  {
   "cell_type": "code",
   "execution_count": 12,
   "id": "a4cd6fe1",
   "metadata": {},
   "outputs": [
    {
     "data": {
      "text/plain": [
       "19"
      ]
     },
     "execution_count": 12,
     "metadata": {},
     "output_type": "execute_result"
    }
   ],
   "source": [
    "len(df_yellow.columns)"
   ]
  },
  {
   "cell_type": "code",
   "execution_count": 16,
   "id": "7c306e57",
   "metadata": {},
   "outputs": [],
   "source": [
    "common_colums = []\n",
    "\n",
    "yellow_columns = set(df_yellow.columns)\n",
    "\n",
    "for col in df_green.columns:\n",
    "    if col in yellow_columns:\n",
    "        common_colums.append(col)"
   ]
  },
  {
   "cell_type": "code",
   "execution_count": 21,
   "id": "a957a318",
   "metadata": {},
   "outputs": [
    {
     "data": {
      "text/plain": [
       "['VendorID',\n",
       " 'pickup_datetime',\n",
       " 'dropoff_datetime',\n",
       " 'store_and_fwd_flag',\n",
       " 'RatecodeID',\n",
       " 'PULocationID',\n",
       " 'DOLocationID',\n",
       " 'passenger_count',\n",
       " 'trip_distance',\n",
       " 'fare_amount',\n",
       " 'extra',\n",
       " 'mta_tax',\n",
       " 'tip_amount',\n",
       " 'tolls_amount',\n",
       " 'improvement_surcharge',\n",
       " 'total_amount',\n",
       " 'payment_type',\n",
       " 'congestion_surcharge']"
      ]
     },
     "execution_count": 21,
     "metadata": {},
     "output_type": "execute_result"
    }
   ],
   "source": [
    "common_colums"
   ]
  },
  {
   "cell_type": "code",
   "execution_count": 25,
   "id": "b9aa95bf",
   "metadata": {},
   "outputs": [],
   "source": [
    "df_green_sel = df_green \\\n",
    "    .select(common_colums) \\\n",
    "    .withColumn('service_type', F.lit('green'))\n",
    "\n",
    "df_yellow_sel = df_yellow \\\n",
    "    .select(common_colums) \\\n",
    "    .withColumn('service_type', F.lit('yellow'))"
   ]
  },
  {
   "cell_type": "code",
   "execution_count": 27,
   "id": "f5481e39",
   "metadata": {},
   "outputs": [],
   "source": [
    "df_trips_data = df_green_sel.unionAll(df_yellow_sel)"
   ]
  },
  {
   "cell_type": "code",
   "execution_count": 28,
   "id": "47b9447c",
   "metadata": {},
   "outputs": [
    {
     "name": "stderr",
     "output_type": "stream",
     "text": [
      "[Stage 3:===================================================>     (18 + 2) / 20]\r"
     ]
    },
    {
     "name": "stdout",
     "output_type": "stream",
     "text": [
      "+------------+--------+\n",
      "|service_type|   count|\n",
      "+------------+--------+\n",
      "|       green| 2802931|\n",
      "|      yellow|55553400|\n",
      "+------------+--------+\n",
      "\n"
     ]
    },
    {
     "name": "stderr",
     "output_type": "stream",
     "text": [
      "\r",
      "                                                                                \r"
     ]
    }
   ],
   "source": [
    "df_trips_data.groupBy('service_type').count().show()"
   ]
  },
  {
   "cell_type": "code",
   "execution_count": 29,
   "id": "25baec5e",
   "metadata": {},
   "outputs": [
    {
     "data": {
      "text/plain": [
       "['VendorID',\n",
       " 'pickup_datetime',\n",
       " 'dropoff_datetime',\n",
       " 'store_and_fwd_flag',\n",
       " 'RatecodeID',\n",
       " 'PULocationID',\n",
       " 'DOLocationID',\n",
       " 'passenger_count',\n",
       " 'trip_distance',\n",
       " 'fare_amount',\n",
       " 'extra',\n",
       " 'mta_tax',\n",
       " 'tip_amount',\n",
       " 'tolls_amount',\n",
       " 'improvement_surcharge',\n",
       " 'total_amount',\n",
       " 'payment_type',\n",
       " 'congestion_surcharge',\n",
       " 'service_type']"
      ]
     },
     "execution_count": 29,
     "metadata": {},
     "output_type": "execute_result"
    }
   ],
   "source": [
    "df_trips_data.columns"
   ]
  },
  {
   "cell_type": "code",
   "execution_count": 30,
   "id": "fdbf5f9b",
   "metadata": {},
   "outputs": [
    {
     "name": "stderr",
     "output_type": "stream",
     "text": [
      "/home/baluramachandra/spark/spark-3.3.0-bin-hadoop3/python/pyspark/sql/dataframe.py:229: FutureWarning: Deprecated in 2.0, use createOrReplaceTempView instead.\n",
      "  warnings.warn(\"Deprecated in 2.0, use createOrReplaceTempView instead.\", FutureWarning)\n"
     ]
    }
   ],
   "source": [
    "df_trips_data.registerTempTable('trips_data')"
   ]
  },
  {
   "cell_type": "code",
   "execution_count": 31,
   "id": "323d0a80",
   "metadata": {},
   "outputs": [
    {
     "name": "stderr",
     "output_type": "stream",
     "text": [
      "[Stage 6:======================================================>  (19 + 1) / 20]\r"
     ]
    },
    {
     "name": "stdout",
     "output_type": "stream",
     "text": [
      "+------------+--------+\n",
      "|service_type|count(1)|\n",
      "+------------+--------+\n",
      "|       green| 2802931|\n",
      "|      yellow|55553400|\n",
      "+------------+--------+\n",
      "\n"
     ]
    },
    {
     "name": "stderr",
     "output_type": "stream",
     "text": [
      "\r",
      "                                                                                \r"
     ]
    }
   ],
   "source": [
    "spark.sql(\"\"\"\n",
    "SELECT\n",
    "    service_type,\n",
    "    count(1)\n",
    "FROM\n",
    "    trips_data\n",
    "GROUP BY \n",
    "    service_type\n",
    "\"\"\").show()"
   ]
  },
  {
   "cell_type": "code",
   "execution_count": 32,
   "id": "5d32e5f7",
   "metadata": {},
   "outputs": [
    {
     "data": {
      "text/plain": [
       "['VendorID',\n",
       " 'pickup_datetime',\n",
       " 'dropoff_datetime',\n",
       " 'store_and_fwd_flag',\n",
       " 'RatecodeID',\n",
       " 'PULocationID',\n",
       " 'DOLocationID',\n",
       " 'passenger_count',\n",
       " 'trip_distance',\n",
       " 'fare_amount',\n",
       " 'extra',\n",
       " 'mta_tax',\n",
       " 'tip_amount',\n",
       " 'tolls_amount',\n",
       " 'improvement_surcharge',\n",
       " 'total_amount',\n",
       " 'payment_type',\n",
       " 'congestion_surcharge',\n",
       " 'service_type']"
      ]
     },
     "execution_count": 32,
     "metadata": {},
     "output_type": "execute_result"
    }
   ],
   "source": [
    "df_trips_data.columns"
   ]
  },
  {
   "cell_type": "code",
   "execution_count": 33,
   "id": "f3ff05da",
   "metadata": {},
   "outputs": [],
   "source": [
    "df_result = spark.sql(\"\"\"\n",
    "SELECT \n",
    "    -- Reveneue grouping \n",
    "    PULocationID AS revenue_zone,\n",
    "    date_trunc('month', pickup_datetime) AS revenue_month, \n",
    "    service_type, \n",
    "\n",
    "    -- Revenue calculation \n",
    "    SUM(fare_amount) AS revenue_monthly_fare,\n",
    "    SUM(extra) AS revenue_monthly_extra,\n",
    "    SUM(mta_tax) AS revenue_monthly_mta_tax,\n",
    "    SUM(tip_amount) AS revenue_monthly_tip_amount,\n",
    "    SUM(tolls_amount) AS revenue_monthly_tolls_amount,\n",
    "    SUM(improvement_surcharge) AS revenue_monthly_improvement_surcharge,\n",
    "    SUM(total_amount) AS revenue_monthly_total_amount,\n",
    "    SUM(congestion_surcharge) AS revenue_monthly_congestion_surcharge,\n",
    "\n",
    "    -- Additional calculations\n",
    "    AVG(passenger_count) AS avg_montly_passenger_count,\n",
    "    AVG(trip_distance) AS avg_montly_trip_distance\n",
    "FROM\n",
    "    trips_data\n",
    "GROUP BY\n",
    "    1, 2, 3\n",
    "\"\"\")"
   ]
  },
  {
   "cell_type": "code",
   "execution_count": 34,
   "id": "1bb19906",
   "metadata": {},
   "outputs": [
    {
     "name": "stderr",
     "output_type": "stream",
     "text": [
      "[Stage 9:======================================================>  (19 + 1) / 20]\r"
     ]
    },
    {
     "name": "stdout",
     "output_type": "stream",
     "text": [
      "+------------+-------------------+------------+--------------------+---------------------+-----------------------+--------------------------+----------------------------+-------------------------------------+----------------------------+------------------------------------+--------------------------+------------------------+\n",
      "|revenue_zone|      revenue_month|service_type|revenue_monthly_fare|revenue_monthly_extra|revenue_monthly_mta_tax|revenue_monthly_tip_amount|revenue_monthly_tolls_amount|revenue_monthly_improvement_surcharge|revenue_monthly_total_amount|revenue_monthly_congestion_surcharge|avg_montly_passenger_count|avg_montly_trip_distance|\n",
      "+------------+-------------------+------------+--------------------+---------------------+-----------------------+--------------------------+----------------------------+-------------------------------------+----------------------------+------------------------------------+--------------------------+------------------------+\n",
      "|         232|2020-01-01 00:00:00|       green|  7108.4500000000035|                502.0|                  32.55|                       0.0|          186.64000000000004|                    75.29999999999964|           7904.939999999998|                                2.75|        1.1428571428571428|       5.600396825396827|\n",
      "|          61|2020-02-01 00:00:00|       green|   69339.42999999995|               5996.0|                  893.0|        1025.1799999999996|           741.7500000000005|                    999.8999999999397|           79369.61000000077|                              120.75|        1.2360128617363344|      3.5227986444507184|\n",
      "|          76|2020-03-01 00:00:00|       green|   29693.68000000006|               225.75|                  160.0|                     59.29|           793.7900000000003|                    402.0000000000095|           31531.75999999983|                                 0.0|        1.2048611111111112|       5.929696521095493|\n",
      "|         168|2020-03-01 00:00:00|       green|  16018.860000000015|                261.5|                  291.5|                    222.31|           624.2900000000003|                   298.50000000000557|          17858.309999999805|                               74.25|        1.2292993630573248|       4.038592375366563|\n",
      "|          77|2021-11-01 00:00:00|       green|   7459.159999999999|               388.45|                   28.0|                     14.97|           345.0700000000002|                   59.099999999999795|                      8297.5|                                 0.0|        1.3833333333333333|       9.540203045685285|\n",
      "|         202|2021-11-01 00:00:00|       green|              2671.8|               139.45|                   20.0|                     28.93|          117.89999999999996|                   23.400000000000034|          3009.7300000000014|                                 5.5|                     1.075|        8.06346153846154|\n",
      "|         194|2020-01-01 00:00:00|       green|  1151.5000000000002|                 41.5|                   11.5|                     11.14|          201.96000000000006|                    9.900000000000002|          1442.3999999999999|                                11.0|        1.2857142857142858|       7.282142857142855|\n",
      "|         168|2019-12-01 00:00:00|       green|                20.0|                  0.5|                    0.5|                       0.0|                         0.0|                                  0.3|                        21.3|                                 0.0|                       1.0|                    6.54|\n",
      "|         260|2020-02-01 00:00:00|       green|   80328.48999999998|              3379.75|                 3330.0|         7016.409999999994|           585.6800000000004|                   2081.6999999998015|           97264.58000000799|                               571.5|        1.5792827504445761|       2.552166142407789|\n",
      "|          70|2020-03-01 00:00:00|       green|   4011.079999999999|                 35.0|                   65.0|                      75.1|          119.08000000000003|                    71.39999999999968|           4404.460000000011|                               13.75|          1.25503355704698|       4.113861788617889|\n",
      "|          42|2009-01-01 00:00:00|       green|                 7.0|                  0.5|                    0.5|                       0.0|                         0.0|                                  0.3|                         8.3|                                 0.0|                       1.0|                    1.52|\n",
      "|         191|2021-10-01 00:00:00|       green|   7550.809999999998|                390.6|                   28.0|                      21.5|          174.77000000000004|                    59.69999999999979|           8228.130000000006|                                 0.0|        1.0526315789473684|      2928.1388442211037|\n",
      "|         128|2021-11-01 00:00:00|       green|   665.4899999999999|                38.25|                    5.0|                     53.97|                         3.0|                    7.499999999999997|           786.9599999999999|                                11.0|                       1.0|       4692.918800000001|\n",
      "|         166|2020-01-01 00:00:00|       green|  176918.84999999998|              8583.75|                 7631.5|         23883.97999999969|           2789.599999999978|                     4685.70000000138|          236168.82999996567|                            13691.75|        1.1976834981780322|       2.447640925176953|\n",
      "|         195|2020-01-01 00:00:00|       green|  11358.090000000013|                549.5|                  143.0|                    804.62|           255.0700000000001|                   135.29999999999941|          13429.329999999967|                              129.25|         1.211726384364821|       4.585847619047621|\n",
      "|         237|2020-01-01 00:00:00|       green|             3895.61|                248.5|                    7.5|                       0.0|          176.44000000000005|                   31.500000000000053|           4359.549999999999|                                 0.0|                       1.0|        10.2085046728972|\n",
      "|         207|2020-01-01 00:00:00|       green|  469.68999999999994|                22.75|                   19.5|                       0.0|          26.770000000000003|                    12.90000000000001|           551.6099999999999|                                 0.0|         1.162162162162162|       2.210222222222222|\n",
      "|         243|2020-02-01 00:00:00|       green|   41227.25999999997|               1845.5|                  806.0|         2132.679999999999|                      952.05|                    615.8999999999979|          48293.440000000555|                              752.75|        1.1686251468860165|       4.527726651480643|\n",
      "|          31|2020-02-01 00:00:00|       green|  1657.5599999999997|                 82.0|                   25.0|        107.82999999999998|          53.519999999999996|                   22.500000000000032|           1975.909999999999|                               30.25|        1.0178571428571428|       5.226790123456792|\n",
      "|         175|2020-02-01 00:00:00|       green|   3626.689999999995|               268.75|                   13.5|                      2.82|          122.40000000000003|                    34.20000000000003|           4068.359999999999|                                 0.0|                       1.1|       6.121779661016949|\n",
      "+------------+-------------------+------------+--------------------+---------------------+-----------------------+--------------------------+----------------------------+-------------------------------------+----------------------------+------------------------------------+--------------------------+------------------------+\n",
      "only showing top 20 rows\n",
      "\n"
     ]
    },
    {
     "name": "stderr",
     "output_type": "stream",
     "text": [
      "\r",
      "                                                                                \r"
     ]
    }
   ],
   "source": [
    "df_result.show()"
   ]
  },
  {
   "cell_type": "code",
   "execution_count": 35,
   "id": "91f65640",
   "metadata": {},
   "outputs": [
    {
     "name": "stderr",
     "output_type": "stream",
     "text": [
      "                                                                                \r"
     ]
    }
   ],
   "source": [
    "df_result.coalesce(1).write.parquet('data/report/revenue/', mode='overwrite')"
   ]
  },
  {
   "cell_type": "code",
   "execution_count": 40,
   "id": "6d03036b",
   "metadata": {},
   "outputs": [
    {
     "name": "stdout",
     "output_type": "stream",
     "text": [
      "total 640K\r\n",
      "-rw-r--r-- 1 baluramachandra baluramachandra    0 Oct 11 12:26 _SUCCESS\r\n",
      "-rw-r--r-- 1 baluramachandra baluramachandra 637K Oct 11 12:26 part-00000-c3365b48-6ba8-4808-8243-34a4d8542a01-c000.snappy.parquet\r\n"
     ]
    }
   ],
   "source": [
    "!ls data/report/revenue -lh"
   ]
  },
  {
   "cell_type": "code",
   "execution_count": 42,
   "id": "c0c5e0f1",
   "metadata": {},
   "outputs": [
    {
     "data": {
      "text/html": [
       "<div>\n",
       "<style scoped>\n",
       "    .dataframe tbody tr th:only-of-type {\n",
       "        vertical-align: middle;\n",
       "    }\n",
       "\n",
       "    .dataframe tbody tr th {\n",
       "        vertical-align: top;\n",
       "    }\n",
       "\n",
       "    .dataframe thead th {\n",
       "        text-align: right;\n",
       "    }\n",
       "</style>\n",
       "<table border=\"1\" class=\"dataframe\">\n",
       "  <thead>\n",
       "    <tr style=\"text-align: right;\">\n",
       "      <th></th>\n",
       "      <th>revenue_zone</th>\n",
       "      <th>revenue_month</th>\n",
       "      <th>service_type</th>\n",
       "      <th>revenue_monthly_fare</th>\n",
       "      <th>revenue_monthly_extra</th>\n",
       "      <th>revenue_monthly_mta_tax</th>\n",
       "      <th>revenue_monthly_tip_amount</th>\n",
       "      <th>revenue_monthly_tolls_amount</th>\n",
       "      <th>revenue_monthly_improvement_surcharge</th>\n",
       "      <th>revenue_monthly_total_amount</th>\n",
       "      <th>revenue_monthly_congestion_surcharge</th>\n",
       "      <th>avg_montly_passenger_count</th>\n",
       "      <th>avg_montly_trip_distance</th>\n",
       "    </tr>\n",
       "  </thead>\n",
       "  <tbody>\n",
       "    <tr>\n",
       "      <th>0</th>\n",
       "      <td>232</td>\n",
       "      <td>2020-01-01</td>\n",
       "      <td>green</td>\n",
       "      <td>7108.45</td>\n",
       "      <td>502.00</td>\n",
       "      <td>32.55</td>\n",
       "      <td>0.00</td>\n",
       "      <td>186.64</td>\n",
       "      <td>75.3</td>\n",
       "      <td>7904.94</td>\n",
       "      <td>2.75</td>\n",
       "      <td>1.142857</td>\n",
       "      <td>5.600397</td>\n",
       "    </tr>\n",
       "    <tr>\n",
       "      <th>1</th>\n",
       "      <td>61</td>\n",
       "      <td>2020-02-01</td>\n",
       "      <td>green</td>\n",
       "      <td>69339.43</td>\n",
       "      <td>5996.00</td>\n",
       "      <td>893.00</td>\n",
       "      <td>1025.18</td>\n",
       "      <td>741.75</td>\n",
       "      <td>999.9</td>\n",
       "      <td>79369.61</td>\n",
       "      <td>120.75</td>\n",
       "      <td>1.236013</td>\n",
       "      <td>3.522799</td>\n",
       "    </tr>\n",
       "    <tr>\n",
       "      <th>2</th>\n",
       "      <td>76</td>\n",
       "      <td>2020-03-01</td>\n",
       "      <td>green</td>\n",
       "      <td>29693.68</td>\n",
       "      <td>225.75</td>\n",
       "      <td>160.00</td>\n",
       "      <td>59.29</td>\n",
       "      <td>793.79</td>\n",
       "      <td>402.0</td>\n",
       "      <td>31531.76</td>\n",
       "      <td>0.00</td>\n",
       "      <td>1.204861</td>\n",
       "      <td>5.929697</td>\n",
       "    </tr>\n",
       "    <tr>\n",
       "      <th>3</th>\n",
       "      <td>168</td>\n",
       "      <td>2020-03-01</td>\n",
       "      <td>green</td>\n",
       "      <td>16018.86</td>\n",
       "      <td>261.50</td>\n",
       "      <td>291.50</td>\n",
       "      <td>222.31</td>\n",
       "      <td>624.29</td>\n",
       "      <td>298.5</td>\n",
       "      <td>17858.31</td>\n",
       "      <td>74.25</td>\n",
       "      <td>1.229299</td>\n",
       "      <td>4.038592</td>\n",
       "    </tr>\n",
       "    <tr>\n",
       "      <th>4</th>\n",
       "      <td>77</td>\n",
       "      <td>2021-11-01</td>\n",
       "      <td>green</td>\n",
       "      <td>7459.16</td>\n",
       "      <td>388.45</td>\n",
       "      <td>28.00</td>\n",
       "      <td>14.97</td>\n",
       "      <td>345.07</td>\n",
       "      <td>59.1</td>\n",
       "      <td>8297.50</td>\n",
       "      <td>0.00</td>\n",
       "      <td>1.383333</td>\n",
       "      <td>9.540203</td>\n",
       "    </tr>\n",
       "    <tr>\n",
       "      <th>...</th>\n",
       "      <td>...</td>\n",
       "      <td>...</td>\n",
       "      <td>...</td>\n",
       "      <td>...</td>\n",
       "      <td>...</td>\n",
       "      <td>...</td>\n",
       "      <td>...</td>\n",
       "      <td>...</td>\n",
       "      <td>...</td>\n",
       "      <td>...</td>\n",
       "      <td>...</td>\n",
       "      <td>...</td>\n",
       "      <td>...</td>\n",
       "    </tr>\n",
       "    <tr>\n",
       "      <th>12507</th>\n",
       "      <td>208</td>\n",
       "      <td>2020-04-01</td>\n",
       "      <td>yellow</td>\n",
       "      <td>1335.20</td>\n",
       "      <td>4.50</td>\n",
       "      <td>27.50</td>\n",
       "      <td>82.74</td>\n",
       "      <td>104.04</td>\n",
       "      <td>17.1</td>\n",
       "      <td>1579.43</td>\n",
       "      <td>5.00</td>\n",
       "      <td>1.000000</td>\n",
       "      <td>5.738621</td>\n",
       "    </tr>\n",
       "    <tr>\n",
       "      <th>12508</th>\n",
       "      <td>200</td>\n",
       "      <td>2020-06-01</td>\n",
       "      <td>yellow</td>\n",
       "      <td>1508.68</td>\n",
       "      <td>3.00</td>\n",
       "      <td>21.00</td>\n",
       "      <td>64.77</td>\n",
       "      <td>79.76</td>\n",
       "      <td>12.6</td>\n",
       "      <td>1689.81</td>\n",
       "      <td>0.00</td>\n",
       "      <td>1.136364</td>\n",
       "      <td>6.743182</td>\n",
       "    </tr>\n",
       "    <tr>\n",
       "      <th>12509</th>\n",
       "      <td>183</td>\n",
       "      <td>2020-06-01</td>\n",
       "      <td>yellow</td>\n",
       "      <td>3529.54</td>\n",
       "      <td>26.00</td>\n",
       "      <td>52.50</td>\n",
       "      <td>210.82</td>\n",
       "      <td>400.11</td>\n",
       "      <td>32.1</td>\n",
       "      <td>4253.57</td>\n",
       "      <td>0.00</td>\n",
       "      <td>1.024390</td>\n",
       "      <td>9.473333</td>\n",
       "    </tr>\n",
       "    <tr>\n",
       "      <th>12510</th>\n",
       "      <td>57</td>\n",
       "      <td>2020-06-01</td>\n",
       "      <td>yellow</td>\n",
       "      <td>1211.95</td>\n",
       "      <td>1.00</td>\n",
       "      <td>17.00</td>\n",
       "      <td>16.50</td>\n",
       "      <td>146.88</td>\n",
       "      <td>10.2</td>\n",
       "      <td>1403.53</td>\n",
       "      <td>0.00</td>\n",
       "      <td>1.000000</td>\n",
       "      <td>8.778824</td>\n",
       "    </tr>\n",
       "    <tr>\n",
       "      <th>12511</th>\n",
       "      <td>107</td>\n",
       "      <td>2020-05-01</td>\n",
       "      <td>yellow</td>\n",
       "      <td>85753.05</td>\n",
       "      <td>9728.00</td>\n",
       "      <td>3890.50</td>\n",
       "      <td>12858.57</td>\n",
       "      <td>1100.88</td>\n",
       "      <td>2343.6</td>\n",
       "      <td>126652.75</td>\n",
       "      <td>18400.00</td>\n",
       "      <td>1.345368</td>\n",
       "      <td>2.728215</td>\n",
       "    </tr>\n",
       "  </tbody>\n",
       "</table>\n",
       "<p>12512 rows × 13 columns</p>\n",
       "</div>"
      ],
      "text/plain": [
       "       revenue_zone revenue_month service_type  revenue_monthly_fare  \\\n",
       "0               232    2020-01-01        green               7108.45   \n",
       "1                61    2020-02-01        green              69339.43   \n",
       "2                76    2020-03-01        green              29693.68   \n",
       "3               168    2020-03-01        green              16018.86   \n",
       "4                77    2021-11-01        green               7459.16   \n",
       "...             ...           ...          ...                   ...   \n",
       "12507           208    2020-04-01       yellow               1335.20   \n",
       "12508           200    2020-06-01       yellow               1508.68   \n",
       "12509           183    2020-06-01       yellow               3529.54   \n",
       "12510            57    2020-06-01       yellow               1211.95   \n",
       "12511           107    2020-05-01       yellow              85753.05   \n",
       "\n",
       "       revenue_monthly_extra  revenue_monthly_mta_tax  \\\n",
       "0                     502.00                    32.55   \n",
       "1                    5996.00                   893.00   \n",
       "2                     225.75                   160.00   \n",
       "3                     261.50                   291.50   \n",
       "4                     388.45                    28.00   \n",
       "...                      ...                      ...   \n",
       "12507                   4.50                    27.50   \n",
       "12508                   3.00                    21.00   \n",
       "12509                  26.00                    52.50   \n",
       "12510                   1.00                    17.00   \n",
       "12511                9728.00                  3890.50   \n",
       "\n",
       "       revenue_monthly_tip_amount  revenue_monthly_tolls_amount  \\\n",
       "0                            0.00                        186.64   \n",
       "1                         1025.18                        741.75   \n",
       "2                           59.29                        793.79   \n",
       "3                          222.31                        624.29   \n",
       "4                           14.97                        345.07   \n",
       "...                           ...                           ...   \n",
       "12507                       82.74                        104.04   \n",
       "12508                       64.77                         79.76   \n",
       "12509                      210.82                        400.11   \n",
       "12510                       16.50                        146.88   \n",
       "12511                    12858.57                       1100.88   \n",
       "\n",
       "       revenue_monthly_improvement_surcharge  revenue_monthly_total_amount  \\\n",
       "0                                       75.3                       7904.94   \n",
       "1                                      999.9                      79369.61   \n",
       "2                                      402.0                      31531.76   \n",
       "3                                      298.5                      17858.31   \n",
       "4                                       59.1                       8297.50   \n",
       "...                                      ...                           ...   \n",
       "12507                                   17.1                       1579.43   \n",
       "12508                                   12.6                       1689.81   \n",
       "12509                                   32.1                       4253.57   \n",
       "12510                                   10.2                       1403.53   \n",
       "12511                                 2343.6                     126652.75   \n",
       "\n",
       "       revenue_monthly_congestion_surcharge  avg_montly_passenger_count  \\\n",
       "0                                      2.75                    1.142857   \n",
       "1                                    120.75                    1.236013   \n",
       "2                                      0.00                    1.204861   \n",
       "3                                     74.25                    1.229299   \n",
       "4                                      0.00                    1.383333   \n",
       "...                                     ...                         ...   \n",
       "12507                                  5.00                    1.000000   \n",
       "12508                                  0.00                    1.136364   \n",
       "12509                                  0.00                    1.024390   \n",
       "12510                                  0.00                    1.000000   \n",
       "12511                              18400.00                    1.345368   \n",
       "\n",
       "       avg_montly_trip_distance  \n",
       "0                      5.600397  \n",
       "1                      3.522799  \n",
       "2                      5.929697  \n",
       "3                      4.038592  \n",
       "4                      9.540203  \n",
       "...                         ...  \n",
       "12507                  5.738621  \n",
       "12508                  6.743182  \n",
       "12509                  9.473333  \n",
       "12510                  8.778824  \n",
       "12511                  2.728215  \n",
       "\n",
       "[12512 rows x 13 columns]"
      ]
     },
     "execution_count": 42,
     "metadata": {},
     "output_type": "execute_result"
    }
   ],
   "source": [
    "pd.read_parquet(\"data/report/revenue/part-00000-c3365b48-6ba8-4808-8243-34a4d8542a01-c000.snappy.parquet\")"
   ]
  },
  {
   "cell_type": "code",
   "execution_count": null,
   "id": "d3885ddd",
   "metadata": {},
   "outputs": [],
   "source": []
  }
 ],
 "metadata": {
  "kernelspec": {
   "display_name": "Python 3 (ipykernel)",
   "language": "python",
   "name": "python3"
  },
  "language_info": {
   "codemirror_mode": {
    "name": "ipython",
    "version": 3
   },
   "file_extension": ".py",
   "mimetype": "text/x-python",
   "name": "python",
   "nbconvert_exporter": "python",
   "pygments_lexer": "ipython3",
   "version": "3.9.12"
  }
 },
 "nbformat": 4,
 "nbformat_minor": 5
}
