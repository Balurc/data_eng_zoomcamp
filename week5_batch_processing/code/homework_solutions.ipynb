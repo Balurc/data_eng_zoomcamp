{
 "cells": [
  {
   "cell_type": "code",
   "execution_count": 1,
   "id": "4ade8960",
   "metadata": {},
   "outputs": [],
   "source": [
    "import pyspark\n",
    "from pyspark.sql import SparkSession\n",
    "from pyspark.sql import functions as F\n",
    "# from pyspark.sql import types"
   ]
  },
  {
   "cell_type": "code",
   "execution_count": 2,
   "id": "931acd06",
   "metadata": {},
   "outputs": [
    {
     "name": "stderr",
     "output_type": "stream",
     "text": [
      "Setting default log level to \"WARN\".\n",
      "To adjust logging level use sc.setLogLevel(newLevel). For SparkR, use setLogLevel(newLevel).\n"
     ]
    },
    {
     "name": "stdout",
     "output_type": "stream",
     "text": [
      "22/10/13 01:31:04 WARN NativeCodeLoader: Unable to load native-hadoop library for your platform... using builtin-java classes where applicable\n"
     ]
    }
   ],
   "source": [
    "spark = SparkSession.builder \\\n",
    "    .master(\"local[*]\") \\\n",
    "    .appName('test') \\\n",
    "    .getOrCreate()"
   ]
  },
  {
   "cell_type": "markdown",
   "id": "ac6c8238",
   "metadata": {},
   "source": [
    "### Question 1. Install Spark and PySpark\n",
    "\n",
    "- Install Spark\n",
    "- Run PySpark\n",
    "- Create a local spark session\n",
    "- Execute spark.version\n",
    "\n",
    "What's the output?"
   ]
  },
  {
   "cell_type": "code",
   "execution_count": 3,
   "id": "123e4292",
   "metadata": {},
   "outputs": [
    {
     "data": {
      "text/plain": [
       "'3.3.0'"
      ]
     },
     "execution_count": 3,
     "metadata": {},
     "output_type": "execute_result"
    }
   ],
   "source": [
    "spark.version"
   ]
  },
  {
   "cell_type": "markdown",
   "id": "403ad453",
   "metadata": {},
   "source": [
    "### Question 2. HVFHW February 2021\n",
    "\n",
    "Download the HVFHV data for february 2021.\n",
    "\n",
    "Read it with Spark using the same schema as we did in the lessons. We will use this dataset for all the remaining questions.\n",
    "\n",
    "Repartition it to 24 partitions and save it to parquet.\n",
    "\n",
    "What's the size of the folder with results (in MB)?"
   ]
  },
  {
   "cell_type": "code",
   "execution_count": 5,
   "id": "dae6fc98",
   "metadata": {},
   "outputs": [
    {
     "name": "stdout",
     "output_type": "stream",
     "text": [
      "--2022-10-13 00:34:59--  https://d37ci6vzurychx.cloudfront.net/trip-data/fhv_tripdata_2021-02.parquet\n",
      "Resolving d37ci6vzurychx.cloudfront.net (d37ci6vzurychx.cloudfront.net)... 13.224.194.107, 13.224.194.4, 13.224.194.50, ...\n",
      "Connecting to d37ci6vzurychx.cloudfront.net (d37ci6vzurychx.cloudfront.net)|13.224.194.107|:443... connected.\n",
      "HTTP request sent, awaiting response... 200 OK\n",
      "Length: 10645466 (10M) [binary/octet-stream]\n",
      "Saving to: ‘fhv_tripdata_2021-02.parquet’\n",
      "\n",
      "fhv_tripdata_2021-0 100%[===================>]  10.15M  4.39MB/s    in 2.3s    \n",
      "\n",
      "2022-10-13 00:35:03 (4.39 MB/s) - ‘fhv_tripdata_2021-02.parquet’ saved [10645466/10645466]\n",
      "\n"
     ]
    }
   ],
   "source": [
    "!wget https://d37ci6vzurychx.cloudfront.net/trip-data/fhv_tripdata_2021-02.parquet"
   ]
  },
  {
   "cell_type": "code",
   "execution_count": 3,
   "id": "d7045fdb",
   "metadata": {},
   "outputs": [
    {
     "name": "stdout",
     "output_type": "stream",
     "text": [
      "03_test.ipynb\t\tfhv_tripdata_2021-02.parquet\r\n",
      "04_pyspark.ipynb\tfhvhv\r\n",
      "05_taxi_schema.ipynb\tfhvhv_tripdata_2021-01.csv\r\n",
      "06_spark_sql.ipynb\tfhvhv_tripdata_2021-01.parquet\r\n",
      "07_groupBy_join.ipynb\thead.parquet\r\n",
      "09_spark_sql_gcd.ipynb\thomework_solutions.ipynb\r\n",
      "data\t\t\tlib\r\n",
      "download_data.sh\ttaxi+_zone_lookup.csv\r\n"
     ]
    }
   ],
   "source": [
    "!ls"
   ]
  },
  {
   "cell_type": "code",
   "execution_count": 4,
   "id": "c1c79bd5",
   "metadata": {},
   "outputs": [
    {
     "name": "stderr",
     "output_type": "stream",
     "text": [
      "\r",
      "[Stage 0:>                                                          (0 + 1) / 1]\r",
      "\r",
      "                                                                                \r"
     ]
    }
   ],
   "source": [
    "df_hw = spark.read.parquet(\"fhv_tripdata_2021-02.parquet\")"
   ]
  },
  {
   "cell_type": "code",
   "execution_count": 5,
   "id": "940b926b",
   "metadata": {},
   "outputs": [
    {
     "name": "stderr",
     "output_type": "stream",
     "text": [
      "                                                                                \r"
     ]
    }
   ],
   "source": [
    "df_hw.repartition(24).write.parquet('data/pq/fhvhv/2021/02/', mode='overwrite')"
   ]
  },
  {
   "cell_type": "code",
   "execution_count": 6,
   "id": "00e79d1a",
   "metadata": {},
   "outputs": [
    {
     "name": "stdout",
     "output_type": "stream",
     "text": [
      "-rw-rw-r-- 1 baluramachandra baluramachandra 11M Jul 18 19:25 fhv_tripdata_2021-02.parquet\r\n"
     ]
    }
   ],
   "source": [
    "!ls -lh fhv_tripdata_2021-02.parquet"
   ]
  },
  {
   "cell_type": "markdown",
   "id": "cbbc3f6c",
   "metadata": {},
   "source": [
    "### Question 3. Count records\n",
    "\n",
    "How many taxi trips were there on February 15?\n",
    "\n",
    "Consider only trips that started on February 15."
   ]
  },
  {
   "cell_type": "code",
   "execution_count": 7,
   "id": "c874796e",
   "metadata": {},
   "outputs": [
    {
     "name": "stdout",
     "output_type": "stream",
     "text": [
      "root\n",
      " |-- dispatching_base_num: string (nullable = true)\n",
      " |-- pickup_datetime: timestamp (nullable = true)\n",
      " |-- dropOff_datetime: timestamp (nullable = true)\n",
      " |-- PUlocationID: double (nullable = true)\n",
      " |-- DOlocationID: double (nullable = true)\n",
      " |-- SR_Flag: integer (nullable = true)\n",
      " |-- Affiliated_base_number: string (nullable = true)\n",
      "\n"
     ]
    }
   ],
   "source": [
    "df_hw.printSchema()"
   ]
  },
  {
   "cell_type": "code",
   "execution_count": 8,
   "id": "15c2dbf5",
   "metadata": {},
   "outputs": [
    {
     "data": {
      "text/plain": [
       "34814"
      ]
     },
     "execution_count": 8,
     "metadata": {},
     "output_type": "execute_result"
    }
   ],
   "source": [
    "df_hw.withColumn('pickup_date', F.to_date(df_hw.pickup_datetime)) \\\n",
    "    .filter(\"pickup_date = '2021-02-15'\") \\\n",
    "    .count()"
   ]
  },
  {
   "cell_type": "markdown",
   "id": "691ae069",
   "metadata": {},
   "source": [
    "### Question 4. Longest trip for each day\n",
    "\n",
    "Now calculate the duration for each trip.\n",
    "\n",
    "Trip starting on which day was the longest?"
   ]
  },
  {
   "cell_type": "code",
   "execution_count": 9,
   "id": "58ab851f",
   "metadata": {},
   "outputs": [
    {
     "data": {
      "text/plain": [
       "['dispatching_base_num',\n",
       " 'pickup_datetime',\n",
       " 'dropOff_datetime',\n",
       " 'PUlocationID',\n",
       " 'DOlocationID',\n",
       " 'SR_Flag',\n",
       " 'Affiliated_base_number']"
      ]
     },
     "execution_count": 9,
     "metadata": {},
     "output_type": "execute_result"
    }
   ],
   "source": [
    "df_hw.columns"
   ]
  },
  {
   "cell_type": "code",
   "execution_count": 10,
   "id": "06e89e96",
   "metadata": {},
   "outputs": [],
   "source": [
    "df_hw = df_hw \\\n",
    "        .withColumn('duration', df_hw.dropOff_datetime.cast('long') - df_hw.pickup_datetime.cast('long')) \\\n",
    "        .withColumn('pickup_date', F.to_date(df_hw.pickup_datetime))"
   ]
  },
  {
   "cell_type": "code",
   "execution_count": 11,
   "id": "6efc4bfb",
   "metadata": {},
   "outputs": [
    {
     "name": "stdout",
     "output_type": "stream",
     "text": [
      "+-----------+-------------+\n",
      "|pickup_date|max(duration)|\n",
      "+-----------+-------------+\n",
      "| 2021-02-04|      6655140|\n",
      "| 2021-02-01|      2777400|\n",
      "| 2021-02-25|      2429340|\n",
      "| 2021-02-23|      2421120|\n",
      "| 2021-02-03|      2402093|\n",
      "| 2021-02-27|      1025040|\n",
      "| 2021-02-28|       945780|\n",
      "| 2021-02-15|       880209|\n",
      "| 2021-02-22|       780092|\n",
      "| 2021-02-08|       565495|\n",
      "| 2021-02-19|       540729|\n",
      "| 2021-02-13|       505361|\n",
      "| 2021-02-16|       288966|\n",
      "| 2021-02-12|       260640|\n",
      "| 2021-02-17|       257087|\n",
      "| 2021-02-10|       193189|\n",
      "| 2021-02-05|       191081|\n",
      "| 2021-02-11|       169153|\n",
      "| 2021-02-20|       156934|\n",
      "| 2021-02-18|       116086|\n",
      "+-----------+-------------+\n",
      "only showing top 20 rows\n",
      "\n"
     ]
    }
   ],
   "source": [
    "df_hw \\\n",
    "    .groupBy('pickup_date').max('duration') \\\n",
    "    .orderBy('max(duration)', ascending=False) \\\n",
    "    .show()"
   ]
  },
  {
   "cell_type": "markdown",
   "id": "9b5eb493",
   "metadata": {},
   "source": [
    "### Question 5. Most frequent dispatching_base_num\n",
    "\n",
    "Now find the most frequently occurring dispatching_base_num in this dataset.\n",
    "\n",
    "How many stages this spark job has? 2"
   ]
  },
  {
   "cell_type": "code",
   "execution_count": 12,
   "id": "a5f69b84",
   "metadata": {},
   "outputs": [
    {
     "name": "stdout",
     "output_type": "stream",
     "text": [
      "+--------------------+-----+\n",
      "|dispatching_base_num|count|\n",
      "+--------------------+-----+\n",
      "|              B00856|35077|\n",
      "|              B01312|33089|\n",
      "|              B01145|31114|\n",
      "|              B02794|30397|\n",
      "|              B03016|29794|\n",
      "|              B01239|24591|\n",
      "|              B02735|21031|\n",
      "|              B00310|18141|\n",
      "|              B01899|16563|\n",
      "|              B00900|16024|\n",
      "|              B01437|15494|\n",
      "|              B01231|14622|\n",
      "|              B02849|14584|\n",
      "|              B00647|13167|\n",
      "|              B02550|12847|\n",
      "|              B00821|12788|\n",
      "|              B00256|12314|\n",
      "|              B02563|10967|\n",
      "|              B01536|10542|\n",
      "|              B01667| 9864|\n",
      "+--------------------+-----+\n",
      "only showing top 20 rows\n",
      "\n"
     ]
    }
   ],
   "source": [
    "df_hw \\\n",
    "    .groupBy('dispatching_base_num').count() \\\n",
    "    .orderBy('count', ascending=False) \\\n",
    "    .show()"
   ]
  },
  {
   "cell_type": "markdown",
   "id": "314fe3af",
   "metadata": {},
   "source": [
    "### Question 6. Most common locations pair\n",
    "\n",
    "Find the most common pickup-dropoff pair.\n",
    "\n",
    "For example:\n",
    "\n",
    "\"Jamaica Bay / Clinton East\"\n",
    "\n",
    "Enter two zone names separated by a slash\n",
    "\n",
    "If any of the zone names are unknown (missing), use \"Unknown\". For example, \"Unknown / Clinton East\"."
   ]
  },
  {
   "cell_type": "code",
   "execution_count": 28,
   "id": "c2016d8d",
   "metadata": {},
   "outputs": [
    {
     "name": "stdout",
     "output_type": "stream",
     "text": [
      "--2022-10-13 00:54:11--  https://d37ci6vzurychx.cloudfront.net/misc/taxi+_zone_lookup.csv\n",
      "Resolving d37ci6vzurychx.cloudfront.net (d37ci6vzurychx.cloudfront.net)... 13.224.194.4, 13.224.194.91, 13.224.194.107, ...\n",
      "Connecting to d37ci6vzurychx.cloudfront.net (d37ci6vzurychx.cloudfront.net)|13.224.194.4|:443... connected.\n",
      "HTTP request sent, awaiting response... 200 OK\n",
      "Length: 12322 (12K) [text/csv]\n",
      "Saving to: ‘taxi+_zone_lookup.csv’\n",
      "\n",
      "taxi+_zone_lookup.c 100%[===================>]  12.03K  --.-KB/s    in 0.01s   \n",
      "\n",
      "2022-10-13 00:54:13 (887 KB/s) - ‘taxi+_zone_lookup.csv’ saved [12322/12322]\n",
      "\n"
     ]
    }
   ],
   "source": [
    "!wget https://d37ci6vzurychx.cloudfront.net/misc/taxi+_zone_lookup.csv"
   ]
  },
  {
   "cell_type": "code",
   "execution_count": 13,
   "id": "8ad8978e",
   "metadata": {},
   "outputs": [],
   "source": [
    "zones = spark.read.option(\"header\", \"true\").csv(\"taxi+_zone_lookup.csv\")"
   ]
  },
  {
   "cell_type": "code",
   "execution_count": 14,
   "id": "a44f4863",
   "metadata": {},
   "outputs": [
    {
     "name": "stderr",
     "output_type": "stream",
     "text": [
      "/home/baluramachandra/spark/spark-3.3.0-bin-hadoop3/python/pyspark/sql/dataframe.py:229: FutureWarning: Deprecated in 2.0, use createOrReplaceTempView instead.\n",
      "  warnings.warn(\"Deprecated in 2.0, use createOrReplaceTempView instead.\", FutureWarning)\n"
     ]
    }
   ],
   "source": [
    "df_hw.registerTempTable('fhvhv_2021_02')\n",
    "zones.registerTempTable('zones')"
   ]
  },
  {
   "cell_type": "code",
   "execution_count": 19,
   "id": "9f8dfb8b",
   "metadata": {},
   "outputs": [
    {
     "name": "stdout",
     "output_type": "stream",
     "text": [
      "+--------------------+------+\n",
      "|          pu_do_pair| count|\n",
      "+--------------------+------+\n",
      "|                null|897362|\n",
      "|Saint George/New ...|  2374|\n",
      "|Stapleton / Saint...|  2112|\n",
      "|Jackson Heights /...|  1902|\n",
      "|   Astoria / Astoria|  1829|\n",
      "+--------------------+------+\n",
      "only showing top 5 rows\n",
      "\n"
     ]
    }
   ],
   "source": [
    "spark.sql(\"\"\"\n",
    "SELECT\n",
    "    CONCAT(pu.Zone, ' / ', do.Zone) AS pu_do_pair,\n",
    "    COUNT(*)as count\n",
    "FROM \n",
    "    fhvhv_2021_02 fhv \n",
    "LEFT JOIN zones pu \n",
    "    ON fhv.PULocationID = pu.LocationID\n",
    "LEFT JOIN zones do \n",
    "    ON fhv.DOLocationID = do.LocationID\n",
    "GROUP BY \n",
    "    1\n",
    "ORDER BY\n",
    "    2 DESC;\n",
    "\"\"\").show(5)"
   ]
  },
  {
   "cell_type": "code",
   "execution_count": 23,
   "id": "b531c417",
   "metadata": {},
   "outputs": [
    {
     "name": "stdout",
     "output_type": "stream",
     "text": [
      "+------------+----------+-----------------+------------+----------+--------------------+--------------------+\n",
      "|PULocationID|LocationID|             Zone|DOLocationID|LocationID|                Zone|          pu_do_pair|\n",
      "+------------+----------+-----------------+------------+----------+--------------------+--------------------+\n",
      "|        null|      null|             null|        null|      null|                null|                null|\n",
      "|       173.0|       173|     North Corona|        82.0|        82|            Elmhurst|North Corona / El...|\n",
      "|       173.0|       173|     North Corona|        56.0|        56|              Corona|North Corona / Co...|\n",
      "|        82.0|        82|         Elmhurst|       129.0|       129|     Jackson Heights|Elmhurst / Jackso...|\n",
      "|        null|      null|             null|       225.0|       225|  Stuyvesant Heights|                null|\n",
      "|        null|      null|             null|        61.0|        61| Crown Heights North|                null|\n",
      "|        null|      null|             null|        26.0|        26|        Borough Park|                null|\n",
      "|        null|      null|             null|        72.0|        72|East Flatbush/Rem...|                null|\n",
      "|        null|      null|             null|       244.0|       244|Washington Height...|                null|\n",
      "|        null|      null|             null|       169.0|       169|          Mount Hope|                null|\n",
      "|        null|      null|             null|       161.0|       161|      Midtown Center|                null|\n",
      "|        13.0|        13|Battery Park City|       182.0|       182|         Parkchester|Battery Park City...|\n",
      "|       152.0|       152|   Manhattanville|       244.0|       244|Washington Height...|Manhattanville / ...|\n",
      "|        null|      null|             null|        null|      null|                null|                null|\n",
      "|        null|      null|             null|        null|      null|                null|                null|\n",
      "|        null|      null|             null|        null|      null|                null|                null|\n",
      "|        null|      null|             null|        null|      null|                null|                null|\n",
      "|        null|      null|             null|       265.0|       265|                  NA|                null|\n",
      "|        null|      null|             null|       237.0|       237|Upper East Side S...|                null|\n",
      "|        null|      null|             null|       248.0|       248|West Farms/Bronx ...|                null|\n",
      "+------------+----------+-----------------+------------+----------+--------------------+--------------------+\n",
      "only showing top 20 rows\n",
      "\n"
     ]
    }
   ],
   "source": [
    "spark.sql(\"\"\"\n",
    "SELECT fhv.PULocationID, pu.LocationID, pu.Zone, fhv.DOLocationID, do.LocationID, do.Zone,\n",
    "    CONCAT(pu.Zone, ' / ', do.Zone) AS pu_do_pair\n",
    "FROM \n",
    "    fhvhv_2021_02 fhv \n",
    "LEFT JOIN zones pu \n",
    "    ON fhv.PULocationID = pu.LocationID\n",
    "LEFT JOIN zones do \n",
    "    ON fhv.DOLocationID = do.LocationID\n",
    "\"\"\").show()"
   ]
  },
  {
   "cell_type": "code",
   "execution_count": null,
   "id": "d3537d9a",
   "metadata": {},
   "outputs": [],
   "source": []
  }
 ],
 "metadata": {
  "kernelspec": {
   "display_name": "Python 3 (ipykernel)",
   "language": "python",
   "name": "python3"
  },
  "language_info": {
   "codemirror_mode": {
    "name": "ipython",
    "version": 3
   },
   "file_extension": ".py",
   "mimetype": "text/x-python",
   "name": "python",
   "nbconvert_exporter": "python",
   "pygments_lexer": "ipython3",
   "version": "3.9.12"
  }
 },
 "nbformat": 4,
 "nbformat_minor": 5
}
